{
 "cells": [
  {
   "cell_type": "code",
   "execution_count": 1,
   "metadata": {},
   "outputs": [
    {
     "name": "stdout",
     "output_type": "stream",
     "text": [
      "<class 'pandas.core.frame.DataFrame'>\n",
      "Int64Index: 2156 entries, 0 to 117715\n",
      "Data columns (total 7 columns):\n",
      " #   Column        Non-Null Count  Dtype  \n",
      "---  ------        --------------  -----  \n",
      " 0   Reviewer      2156 non-null   object \n",
      " 1   Note          2156 non-null   float64\n",
      " 2   Comment       2156 non-null   object \n",
      " 3   Localisation  2156 non-null   object \n",
      " 4   Nbreviews     2156 non-null   int64  \n",
      " 5   Date          2156 non-null   object \n",
      " 6   Compagny      2156 non-null   object \n",
      "dtypes: float64(1), int64(1), object(5)\n",
      "memory usage: 134.8+ KB\n"
     ]
    },
    {
     "data": {
      "text/plain": [
       "Index(['Reviewer', 'Note', 'Comment', 'Localisation', 'Nbreviews', 'Date',\n",
       "       'Compagny'],\n",
       "      dtype='object')"
      ]
     },
     "metadata": {},
     "output_type": "display_data"
    },
    {
     "name": "stdout",
     "output_type": "stream",
     "text": [
      "<class 'pandas.core.frame.DataFrame'>\n",
      "Int64Index: 4086 entries, 0 to 422285\n",
      "Data columns (total 7 columns):\n",
      " #   Column        Non-Null Count  Dtype  \n",
      "---  ------        --------------  -----  \n",
      " 0   Reviewer      4086 non-null   object \n",
      " 1   Note          4086 non-null   float64\n",
      " 2   Comment       4086 non-null   object \n",
      " 3   Localisation  4086 non-null   object \n",
      " 4   Nbreviews     4086 non-null   int64  \n",
      " 5   Date          4086 non-null   object \n",
      " 6   Compagny      4086 non-null   object \n",
      "dtypes: float64(1), int64(1), object(5)\n",
      "memory usage: 255.4+ KB\n"
     ]
    },
    {
     "data": {
      "text/plain": [
       "Index(['Reviewer', 'Note', 'Comment', 'Localisation', 'Nbreviews', 'Date',\n",
       "       'Compagny'],\n",
       "      dtype='object')"
      ]
     },
     "metadata": {},
     "output_type": "display_data"
    },
    {
     "name": "stdout",
     "output_type": "stream",
     "text": [
      "<class 'pandas.core.frame.DataFrame'>\n",
      "Int64Index: 3904 entries, 0 to 405920\n",
      "Data columns (total 7 columns):\n",
      " #   Column        Non-Null Count  Dtype  \n",
      "---  ------        --------------  -----  \n",
      " 0   Reviewer      3904 non-null   object \n",
      " 1   Note          3904 non-null   float64\n",
      " 2   Comment       3904 non-null   object \n",
      " 3   Localisation  3904 non-null   object \n",
      " 4   Nbreviews     3904 non-null   int64  \n",
      " 5   Date          3904 non-null   object \n",
      " 6   Compagny      3904 non-null   object \n",
      "dtypes: float64(1), int64(1), object(5)\n",
      "memory usage: 244.0+ KB\n"
     ]
    },
    {
     "data": {
      "text/plain": [
       "Index(['Reviewer', 'Note', 'Comment', 'Localisation', 'Nbreviews', 'Date',\n",
       "       'Compagny'],\n",
       "      dtype='object')"
      ]
     },
     "metadata": {},
     "output_type": "display_data"
    },
    {
     "name": "stdout",
     "output_type": "stream",
     "text": [
      "<class 'pandas.core.frame.DataFrame'>\n",
      "Int64Index: 919 entries, 0 to 21619\n",
      "Data columns (total 7 columns):\n",
      " #   Column        Non-Null Count  Dtype  \n",
      "---  ------        --------------  -----  \n",
      " 0   Reviewer      919 non-null    object \n",
      " 1   Note          919 non-null    float64\n",
      " 2   Comment       919 non-null    object \n",
      " 3   Localisation  919 non-null    object \n",
      " 4   Nbreviews     919 non-null    int64  \n",
      " 5   Date          919 non-null    object \n",
      " 6   Compagny      919 non-null    object \n",
      "dtypes: float64(1), int64(1), object(5)\n",
      "memory usage: 57.4+ KB\n"
     ]
    },
    {
     "data": {
      "text/plain": [
       "Index(['Reviewer', 'Note', 'Comment', 'Localisation', 'Nbreviews', 'Date',\n",
       "       'Compagny'],\n",
       "      dtype='object')"
      ]
     },
     "metadata": {},
     "output_type": "display_data"
    },
    {
     "name": "stdout",
     "output_type": "stream",
     "text": [
      "<class 'pandas.core.frame.DataFrame'>\n",
      "Int64Index: 600 entries, 0 to 9299\n",
      "Data columns (total 7 columns):\n",
      " #   Column        Non-Null Count  Dtype  \n",
      "---  ------        --------------  -----  \n",
      " 0   Reviewer      600 non-null    object \n",
      " 1   Note          600 non-null    float64\n",
      " 2   Comment       600 non-null    object \n",
      " 3   Localisation  600 non-null    object \n",
      " 4   Nbreviews     600 non-null    float64\n",
      " 5   Date          600 non-null    object \n",
      " 6   Compagny      600 non-null    object \n",
      "dtypes: float64(2), object(5)\n",
      "memory usage: 37.5+ KB\n"
     ]
    },
    {
     "data": {
      "text/plain": [
       "Index(['Reviewer', 'Note', 'Comment', 'Localisation', 'Nbreviews', 'Date',\n",
       "       'Compagny'],\n",
       "      dtype='object')"
      ]
     },
     "metadata": {},
     "output_type": "display_data"
    },
    {
     "name": "stdout",
     "output_type": "stream",
     "text": [
      "<class 'pandas.core.frame.DataFrame'>\n",
      "Int64Index: 6108 entries, 0 to 939407\n",
      "Data columns (total 7 columns):\n",
      " #   Column        Non-Null Count  Dtype  \n",
      "---  ------        --------------  -----  \n",
      " 0   Reviewer      6108 non-null   object \n",
      " 1   Note          6108 non-null   float64\n",
      " 2   Comment       6108 non-null   object \n",
      " 3   Localisation  6108 non-null   object \n",
      " 4   Nbreviews     6108 non-null   int64  \n",
      " 5   Date          6108 non-null   object \n",
      " 6   Compagny      6108 non-null   object \n",
      "dtypes: float64(1), int64(1), object(5)\n",
      "memory usage: 381.8+ KB\n"
     ]
    },
    {
     "data": {
      "text/plain": [
       "Index(['Reviewer', 'Note', 'Comment', 'Localisation', 'Nbreviews', 'Date',\n",
       "       'Compagny'],\n",
       "      dtype='object')"
      ]
     },
     "metadata": {},
     "output_type": "display_data"
    },
    {
     "name": "stdout",
     "output_type": "stream",
     "text": [
      "<class 'pandas.core.frame.DataFrame'>\n",
      "Int64Index: 4190 entries, 0 to 460030\n",
      "Data columns (total 7 columns):\n",
      " #   Column        Non-Null Count  Dtype  \n",
      "---  ------        --------------  -----  \n",
      " 0   Reviewer      4190 non-null   object \n",
      " 1   Note          4190 non-null   float64\n",
      " 2   Comment       4190 non-null   object \n",
      " 3   Localisation  4190 non-null   object \n",
      " 4   Nbreviews     4190 non-null   int64  \n",
      " 5   Date          4190 non-null   object \n",
      " 6   Compagny      4190 non-null   object \n",
      "dtypes: float64(1), int64(1), object(5)\n",
      "memory usage: 261.9+ KB\n"
     ]
    },
    {
     "data": {
      "text/plain": [
       "Index(['Reviewer', 'Note', 'Comment', 'Localisation', 'Nbreviews', 'Date',\n",
       "       'Compagny'],\n",
       "      dtype='object')"
      ]
     },
     "metadata": {},
     "output_type": "display_data"
    },
    {
     "name": "stdout",
     "output_type": "stream",
     "text": [
      "<class 'pandas.core.frame.DataFrame'>\n",
      "Int64Index: 7998 entries, 0 to 1603999\n",
      "Data columns (total 7 columns):\n",
      " #   Column        Non-Null Count  Dtype  \n",
      "---  ------        --------------  -----  \n",
      " 0   Reviewer      7998 non-null   object \n",
      " 1   Note          7998 non-null   float64\n",
      " 2   Comment       7998 non-null   object \n",
      " 3   Localisation  7998 non-null   object \n",
      " 4   Nbreviews     7998 non-null   int64  \n",
      " 5   Date          7998 non-null   object \n",
      " 6   Compagny      7998 non-null   object \n",
      "dtypes: float64(1), int64(1), object(5)\n",
      "memory usage: 499.9+ KB\n"
     ]
    },
    {
     "data": {
      "text/plain": [
       "Index(['Reviewer', 'Note', 'Comment', 'Localisation', 'Nbreviews', 'Date',\n",
       "       'Compagny'],\n",
       "      dtype='object')"
      ]
     },
     "metadata": {},
     "output_type": "display_data"
    },
    {
     "name": "stdout",
     "output_type": "stream",
     "text": [
      "<class 'pandas.core.frame.DataFrame'>\n",
      "Int64Index: 3888 entries, 0 to 382189\n",
      "Data columns (total 7 columns):\n",
      " #   Column        Non-Null Count  Dtype  \n",
      "---  ------        --------------  -----  \n",
      " 0   Reviewer      3888 non-null   object \n",
      " 1   Note          3888 non-null   float64\n",
      " 2   Comment       3888 non-null   object \n",
      " 3   Localisation  3888 non-null   object \n",
      " 4   Nbreviews     3888 non-null   int64  \n",
      " 5   Date          3888 non-null   object \n",
      " 6   Compagny      3888 non-null   object \n",
      "dtypes: float64(1), int64(1), object(5)\n",
      "memory usage: 243.0+ KB\n"
     ]
    },
    {
     "data": {
      "text/plain": [
       "Index(['Reviewer', 'Note', 'Comment', 'Localisation', 'Nbreviews', 'Date',\n",
       "       'Compagny'],\n",
       "      dtype='object')"
      ]
     },
     "metadata": {},
     "output_type": "display_data"
    },
    {
     "name": "stdout",
     "output_type": "stream",
     "text": [
      "<class 'pandas.core.frame.DataFrame'>\n",
      "Int64Index: 4098 entries, 0 to 422297\n",
      "Data columns (total 7 columns):\n",
      " #   Column        Non-Null Count  Dtype  \n",
      "---  ------        --------------  -----  \n",
      " 0   Reviewer      4098 non-null   object \n",
      " 1   Note          4098 non-null   float64\n",
      " 2   Comment       4098 non-null   object \n",
      " 3   Localisation  4098 non-null   object \n",
      " 4   Nbreviews     4098 non-null   int64  \n",
      " 5   Date          4098 non-null   object \n",
      " 6   Compagny      4098 non-null   object \n",
      "dtypes: float64(1), int64(1), object(5)\n",
      "memory usage: 256.1+ KB\n"
     ]
    },
    {
     "data": {
      "text/plain": [
       "Index(['Reviewer', 'Note', 'Comment', 'Localisation', 'Nbreviews', 'Date',\n",
       "       'Compagny'],\n",
       "      dtype='object')"
      ]
     },
     "metadata": {},
     "output_type": "display_data"
    },
    {
     "name": "stdout",
     "output_type": "stream",
     "text": [
      "<class 'pandas.core.frame.DataFrame'>\n",
      "Int64Index: 6718 entries, 0 to 1139036\n",
      "Data columns (total 7 columns):\n",
      " #   Column        Non-Null Count  Dtype  \n",
      "---  ------        --------------  -----  \n",
      " 0   Reviewer      6718 non-null   object \n",
      " 1   Note          6718 non-null   float64\n",
      " 2   Comment       6718 non-null   object \n",
      " 3   Localisation  6718 non-null   object \n",
      " 4   Nbreviews     6718 non-null   int64  \n",
      " 5   Date          6718 non-null   object \n",
      " 6   Compagny      6718 non-null   object \n",
      "dtypes: float64(1), int64(1), object(5)\n",
      "memory usage: 419.9+ KB\n"
     ]
    },
    {
     "data": {
      "text/plain": [
       "Index(['Reviewer', 'Note', 'Comment', 'Localisation', 'Nbreviews', 'Date',\n",
       "       'Compagny'],\n",
       "      dtype='object')"
      ]
     },
     "metadata": {},
     "output_type": "display_data"
    },
    {
     "name": "stdout",
     "output_type": "stream",
     "text": [
      "<class 'pandas.core.frame.DataFrame'>\n",
      "Int64Index: 8000 entries, 0 to 1603999\n",
      "Data columns (total 7 columns):\n",
      " #   Column        Non-Null Count  Dtype  \n",
      "---  ------        --------------  -----  \n",
      " 0   Reviewer      8000 non-null   object \n",
      " 1   Note          8000 non-null   float64\n",
      " 2   Comment       8000 non-null   object \n",
      " 3   Localisation  8000 non-null   object \n",
      " 4   Nbreviews     8000 non-null   int64  \n",
      " 5   Date          8000 non-null   object \n",
      " 6   Compagny      8000 non-null   object \n",
      "dtypes: float64(1), int64(1), object(5)\n",
      "memory usage: 500.0+ KB\n"
     ]
    },
    {
     "data": {
      "text/plain": [
       "Index(['Reviewer', 'Note', 'Comment', 'Localisation', 'Nbreviews', 'Date',\n",
       "       'Compagny'],\n",
       "      dtype='object')"
      ]
     },
     "metadata": {},
     "output_type": "display_data"
    }
   ],
   "source": [
    "import os\n",
    "import pandas as pd\n",
    "\n",
    "# assign path\n",
    "path, dirs, files = next(os.walk(\"./csv_results/\"))\n",
    "file_count = len(files)\n",
    "# create empty list\n",
    "dataframes_list = []\n",
    " \n",
    "# append datasets to the list\n",
    "for i in range(file_count):\n",
    "    temp_df = pd.read_csv(\"./csv_results/\"+files[i])\n",
    "    dataframes_list.append(temp_df)\n",
    "     \n",
    "# display datasets\n",
    "for dataset in dataframes_list:\n",
    "    dataset.drop(dataset.columns[0], axis=1, inplace=True)\n",
    "    #dataset.info()\n",
    "    dataset['Date'] = pd.to_datetime(dataset['Date']).dt.strftime('%Y-%m-%dT%H:%M:%SZ')\n",
    "    dataset = dataset.drop_duplicates()\n",
    "    dataset = dataset.dropna(axis=0)\n",
    "    \n",
    "    \n",
    "    dataset.info()\n",
    "\n",
    "    display(dataset.columns)\n",
    "    \n",
    "    dataset.to_csv('./edit1/'+dataset['Compagny'][0]+'_Edit_Reviews.csv', mode='a', index=False, header=True, encoding='utf-8-sig')\n",
    "    \n",
    "    #display(dataset)"
   ]
  },
  {
   "cell_type": "code",
   "execution_count": null,
   "metadata": {},
   "outputs": [],
   "source": []
  },
  {
   "cell_type": "code",
   "execution_count": null,
   "metadata": {},
   "outputs": [],
   "source": []
  }
 ],
 "metadata": {
  "kernelspec": {
   "display_name": "Python 3",
   "language": "python",
   "name": "python3"
  },
  "language_info": {
   "codemirror_mode": {
    "name": "ipython",
    "version": 3
   },
   "file_extension": ".py",
   "mimetype": "text/x-python",
   "name": "python",
   "nbconvert_exporter": "python",
   "pygments_lexer": "ipython3",
   "version": "3.8.5"
  }
 },
 "nbformat": 4,
 "nbformat_minor": 4
}
